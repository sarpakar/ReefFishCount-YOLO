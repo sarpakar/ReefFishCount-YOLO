{
  "nbformat": 4,
  "nbformat_minor": 0,
  "metadata": {
    "colab": {
      "provenance": []
    },
    "kernelspec": {
      "name": "python3",
      "display_name": "Python 3"
    },
    "language_info": {
      "name": "python"
    }
  },
  "cells": [
    {
      "cell_type": "code",
      "execution_count": null,
      "metadata": {
        "colab": {
          "base_uri": "https://localhost:8080/"
        },
        "id": "RHH4KHlAezCE",
        "outputId": "c20daea3-a303-4b51-f634-cd3e134f4655"
      },
      "outputs": [
        {
          "output_type": "stream",
          "name": "stdout",
          "text": [
            "Drive already mounted at /content/drive; to attempt to forcibly remount, call drive.mount(\"/content/drive\", force_remount=True).\n"
          ]
        }
      ],
      "source": [
        "from google.colab import drive\n",
        "drive.mount('/content/drive')"
      ]
    },
    {
      "cell_type": "code",
      "source": [
        "import cv2\n",
        "import os\n",
        "\n",
        "\n",
        "image_folder = '/content/drive/MyDrive/DC 3/valid - 9908'\n",
        "output_video_path = '/content/drive/MyDrive/DC 3/raw_videos/9908_classification_video.mp4'\n",
        "\n",
        "# Get list of images in the folder and sort them to ensure the correct order\n",
        "images = sorted([img for img in os.listdir(image_folder) if img.endswith(\".jpg\") or img.endswith(\".png\")])\n",
        "\n",
        "# Ensure there are images to process\n",
        "if len(images) == 0:\n",
        "    print(\"No images found in the directory.\")\n",
        "    exit()\n",
        "\n",
        "# Read the first image to determine the width and height of the video\n",
        "first_image_path = os.path.join(image_folder, images[0])\n",
        "frame = cv2.imread(first_image_path)\n",
        "\n",
        "# Get the dimensions of the first image\n",
        "height, width, layers = frame.shape\n",
        "\n",
        "# Set the frames per second (fps)\n",
        "fps = 10\n",
        "\n",
        "# Create a VideoWriter object to write frames to the video file\n",
        "fourcc = cv2.VideoWriter_fourcc(*'mp4v')\n",
        "video = cv2.VideoWriter(output_video_path, fourcc, fps, (width, height))\n",
        "\n",
        "# Iterate over each image and write it to the video file\n",
        "for image in images:\n",
        "    image_path = os.path.join(image_folder, image)\n",
        "    frame = cv2.imread(image_path)\n",
        "\n",
        "    if frame is None:\n",
        "        print(f\"Error reading image: {image}\")\n",
        "        continue\n",
        "\n",
        "    video.write(frame)\n",
        "\n",
        "# Release the VideoWriter object\n",
        "video.release()\n",
        "\n",
        "print(f\"Video saved to {output_video_path}\")"
      ],
      "metadata": {
        "colab": {
          "base_uri": "https://localhost:8080/"
        },
        "id": "dkYOKrD9e-bX",
        "outputId": "db89e4ed-6338-434f-9978-fc2bbecdcf7e"
      },
      "execution_count": null,
      "outputs": [
        {
          "output_type": "stream",
          "name": "stdout",
          "text": [
            "Video saved to /content/drive/MyDrive/DC 3/raw_videos/9908_classification_video.mp4\n"
          ]
        }
      ]
    }
  ]
}